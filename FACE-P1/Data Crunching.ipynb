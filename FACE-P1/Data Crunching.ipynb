{
 "cells": [
  {
   "cell_type": "code",
   "execution_count": 42,
   "id": "f28e3144",
   "metadata": {},
   "outputs": [],
   "source": [
    "import json"
   ]
  },
  {
   "cell_type": "code",
   "execution_count": 43,
   "id": "216307b0",
   "metadata": {},
   "outputs": [],
   "source": [
    "with open('stats.json', 'r') as openfile:\n",
    " \n",
    "    # Reading from json file\n",
    "    json_object = json.load(openfile)\n",
    " "
   ]
  },
  {
   "cell_type": "code",
   "execution_count": 50,
   "id": "d6fa33eb",
   "metadata": {},
   "outputs": [],
   "source": [
    "\n",
    "labels = [\"leg\",\"mouth\",\"shadow\",\"tail\",\"arm\",\"eye\"]\n",
    "    \n",
    "total_img = 0\n",
    "total_found = 0\n",
    "weaks = 0\n",
    "weak_feat = 0\n",
    "total_weaks = 0\n",
    "anotation_counts = [0,0,0,0,0,0]\n",
    "\n",
    "for i in json_object[\"data\"]:\n",
    "    total_img +=1\n",
    "    if (i['obj']):\n",
    "        total_found +=1\n",
    "        if (len(i['weak'])>0):\n",
    "            weaks+=1\n",
    "            total_weaks += len(i['weak'])\n",
    "        for w in i['weak']:\n",
    "            if (len(w) > 0):\n",
    "                weak_feat +=1\n",
    "            for f in w:\n",
    "                anotation_counts[labels.index(f)]+=1\n",
    "                \n",
    "            \n",
    "            \n",
    "            \n",
    "        \n",
    "        \n",
    "        \n",
    "        \n",
    "        "
   ]
  },
  {
   "cell_type": "code",
   "execution_count": 51,
   "id": "98963f0f",
   "metadata": {},
   "outputs": [
    {
     "name": "stdout",
     "output_type": "stream",
     "text": [
      "Total number of images processes: 9\n",
      "Number of images where a camo object was found: 9\n",
      "Number of images where a camo object NOT was found: 0\n",
      "100.00%  of images contianed an object\n",
      "Number of images with an object that had no weak camo: 0\n",
      "Number of images with an object that had weak camo: 9\n",
      "100.00%  of images with an object contained weak camo\n",
      "Number of weak camo areas with features: 17\n",
      "Number of weak camo areas with no features: -67\n",
      "22.37%  of weak camo areas had features\n",
      "[13, 0, 1, 4, 0, 4]\n"
     ]
    }
   ],
   "source": [
    "print(\"Total number of images processes: %s\"%total_img)\n",
    "print(\"Number of images where a camo object was found: %s\"%total_found)\n",
    "print(\"Number of images where a camo object NOT was found: %s\"%(total_img-total_found))\n",
    "print(\"{:.2f}%  of images contianed an object\".format(100*total_found/total_img))\n",
    "\n",
    "print(\"Number of images with an object that had no weak camo: %s\"%(total_img-weaks))\n",
    "print(\"Number of images with an object that had weak camo: %s\"%(weaks))\n",
    "print(\"{:.2f}%  of images with an object contained weak camo\".format(100*weaks/total_found))\n",
    "\n",
    "print(\"Number of weak camo areas with features: %s\"%(weak_feat))\n",
    "print(\"Number of weak camo areas with no features: %s\"%(weaks-total_weaks))\n",
    "print(\"{:.2f}%  of weak camo areas had features\".format(100*weak_feat/total_weaks))\n",
    "\n",
    "print(anotation_counts)\n",
    "\n"
   ]
  },
  {
   "cell_type": "code",
   "execution_count": null,
   "id": "ced2d434",
   "metadata": {},
   "outputs": [],
   "source": []
  }
 ],
 "metadata": {
  "kernelspec": {
   "display_name": "Python 3 (ipykernel)",
   "language": "python",
   "name": "python3"
  },
  "language_info": {
   "codemirror_mode": {
    "name": "ipython",
    "version": 3
   },
   "file_extension": ".py",
   "mimetype": "text/x-python",
   "name": "python",
   "nbconvert_exporter": "python",
   "pygments_lexer": "ipython3",
   "version": "3.10.8"
  }
 },
 "nbformat": 4,
 "nbformat_minor": 5
}
